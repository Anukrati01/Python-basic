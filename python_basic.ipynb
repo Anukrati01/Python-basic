{
  "nbformat": 4,
  "nbformat_minor": 0,
  "metadata": {
    "colab": {
      "provenance": []
    },
    "kernelspec": {
      "name": "python3",
      "display_name": "Python 3"
    },
    "language_info": {
      "name": "python"
    }
  },
  "cells": [
    {
      "cell_type": "markdown",
      "source": [
        "Python"
      ],
      "metadata": {
        "id": "-Rs62XYdFAHT"
      }
    },
    {
      "cell_type": "markdown",
      "source": [
        "1. What is Python, and why is it popular?\n",
        "\n",
        "  - Python is a programming language that is interpreted, object-oriented, and considered to be high-level too.Python is one of the easiest yet most useful programming languages which is used in the software industry,robotics,chatgpt etc.python is a programmng language like a set of special rules and symbols that you use to give instructions to a computer.\n",
        "   Factors of python popularity-\n",
        "    \n",
        "\n",
        "1.   Easy to learn\n",
        "2.   Flexible\n",
        "3.   Python has an active,supportive,community\n",
        "4.   Versatile\n",
        "5.   Python is efficient, fast and reliable\n",
        "6.   Academic language\n",
        "7.   A lot of libraries\n",
        "8.   Automation  \n",
        "\n",
        "\n",
        "\n",
        "\n",
        "\n"
      ],
      "metadata": {
        "id": "Vszrhtrw-tw-"
      }
    },
    {
      "cell_type": "markdown",
      "source": [
        "2. What is an interpreter in Python ?\n",
        "    - A Python interpreter is a computer program that takes the Python code and converts it into machine code."
      ],
      "metadata": {
        "id": "VW9CflkAIcdZ"
      }
    },
    {
      "cell_type": "markdown",
      "source": [
        "3. What are pre-defined keywords in Python ?\n",
        "  \n",
        "  - The Python keywords act as the building blocks of a python program. These words have a specific meaning and can’t be used for other purposes. The keywords will always be available to a programmer for coding. You need not import them. To get a list of the Python reserved words, follow the below process\n",
        "          Syntax:\n",
        "                 >>> help(“keywords”)\n",
        "  "
      ],
      "metadata": {
        "id": "d7dngeOcJECS"
      }
    },
    {
      "cell_type": "markdown",
      "source": [
        "4.  Can keywords be used as variable name ?\n",
        "       \n",
        "     - No, Python keywords cannot be used as variable names:\n",
        "\n",
        "     Explanation:-\n",
        "\n",
        "       Keywords are reserved words with special meanings and purposes in Python's syntax.\n"
      ],
      "metadata": {
        "id": "iq1RWKi2w2qQ"
      }
    },
    {
      "cell_type": "markdown",
      "source": [
        "5. what is mutability in python ?\n",
        "  \n",
        "    - Object/container whose state or value can be changed after they are created called as mutable object/ container.\n",
        "       \n",
        "       list is a type of mutable object item assignment."
      ],
      "metadata": {
        "id": "RxN_7IObzPqZ"
      }
    },
    {
      "cell_type": "markdown",
      "source": [
        "6. Why are list mutable but tuples are immutable ?    \n",
        "   - The main difference between tuples and lists is that tuples are immutable, meaning their contents cannot be changed after creation, while lists are mutable and can be modified. Additionally, tuples are more memory-efficient compared to lists. Tuples can't be changed after they're created, but lists can be modified.   "
      ],
      "metadata": {
        "id": "YlvRI8ee2eG4"
      }
    },
    {
      "cell_type": "markdown",
      "source": [
        "7. What is the difference between \"==\" and is operator in python ?\n",
        "     - In Python, the main difference between the == and is operators is that == compares the values of two objects, while is compares the identity of two objects:\n",
        "       "
      ],
      "metadata": {
        "id": "fKzaSa9S22fJ"
      }
    },
    {
      "cell_type": "markdown",
      "source": [
        "8. What are logcal operators in python?\n",
        "      - Logical operators in Python are keywords that combine and evaluate multiple conditions in a single expression. They are used to create conditional statements, make decisions, and perform logical comparisons. The three logical operators in Python are:\n",
        "          \n",
        "           :- and: Returns True if both conditions are true. For example, x < 5 and x < 10.\n",
        "           \n",
        "           :-  or: Returns True if either condition is true. For example, x < 5 or x < 4.\n",
        "            :- not: Reverses the result, so if something is True, not turns it False. For example, not(x < 5 and x < 10)."
      ],
      "metadata": {
        "id": "OsLafZ0IDi7E"
      }
    },
    {
      "cell_type": "markdown",
      "source": [
        "9. What are type casting in python?\n",
        "     - Typecasting in Python allows programmers to convert variables or data from one data type to another.\n",
        "     Python offers two ways to perform typecasting -\n",
        "           1. Implicit type conversion\n",
        "           2.  Explicit type conversion"
      ],
      "metadata": {
        "id": "nwu5yaDjDnrK"
      }
    },
    {
      "cell_type": "markdown",
      "source": [
        "10. What is the difference between implicit and explicit type casting?\n",
        "      - The main difference between implicit and explicit type casting is that implicit type casting is automatic, while explicit type casting requires manual intervention:"
      ],
      "metadata": {
        "id": "EBm8EPIiDr2J"
      }
    },
    {
      "cell_type": "markdown",
      "source": [
        "11. What is the purpose of conditional statements in Python ?\n",
        "     - The purpose of conditional statements in Python is to control the flow of a program by making decisions based on certain conditions:\n",
        "          Some examples of conditional statements in Python include:\n",
        "            1. If statement: Runs a section of code if the conditional provided is true\n",
        "            2. If-else statement: Used to segregate even and odd numbers\n",
        "            3. Nested if statement: Used to check if a year is a leap year\n"
      ],
      "metadata": {
        "id": "yDd08N0WDuu9"
      }
    },
    {
      "cell_type": "markdown",
      "source": [
        "12.  How does the elif statement work ?\n",
        "     - The “elif” keyword in Python, stands for “else if”. It can be used in conditional statements to check for multiple conditions. For example, if the first condition is false, it moves on to the next “elif” statement to check if that condition is true. If none of the conditions are true, the code will execute the else statement."
      ],
      "metadata": {
        "id": "zXEpWQZYDwiV"
      }
    },
    {
      "cell_type": "markdown",
      "source": [
        "13. What is the difference between for and while loops?\n",
        "    - Both for loop and while loop is used to execute the statements repeatedly while the program runs. The major difference between for loop and while loop is that for loop is used when the number of iterations is known, whereas execution is done in a while loop until the statement in the program is proved wrong.\n",
        "    "
      ],
      "metadata": {
        "id": "-R242UbtDxvB"
      }
    },
    {
      "cell_type": "markdown",
      "source": [
        "14. Describe a scenario where a while loop is more suitable than a for loop.\n",
        "    - While loops and for loops are both used for iteration in programming, but they each have scenarios where one is more appropriate than the other. Here are some scenarios where a while loop is preferable:\n",
        "       1. Indeterminate Iteration :- When the number of iterations is not known beforehand and depends on a condition.\n",
        "       2. Waiting for a Condition :- When you need to wait for a condition to become true, such as waiting for user input or a resource to become available.\n",
        "       3. Infinite Loops :- When you want to create an infinite loop that continues until explicitly broken out of, often used in server applications.\n",
        "       4. Early Exit :- When you need to check a condition and exit the loop early based on dynamic conditions that may change during execution."
      ],
      "metadata": {
        "id": "D5DU5gB-Dy8t"
      }
    },
    {
      "cell_type": "code",
      "source": [
        "# Write a python program to print 'hello,world!'\n",
        "print ('hello,world!')"
      ],
      "metadata": {
        "colab": {
          "base_uri": "https://localhost:8080/"
        },
        "id": "RJHqoQ9KGE1p",
        "outputId": "5a9d7054-1f68-44dc-fae1-a5c5668a67af"
      },
      "execution_count": null,
      "outputs": [
        {
          "output_type": "stream",
          "name": "stdout",
          "text": [
            "hello,world!\n"
          ]
        }
      ]
    },
    {
      "cell_type": "code",
      "source": [
        "# Write a python program that display your name and age.\n",
        "a= input (\"Enter name:\")\n",
        "b= input (\"Enter age:\")\n"
      ],
      "metadata": {
        "colab": {
          "base_uri": "https://localhost:8080/"
        },
        "id": "Za6aSojyHDyJ",
        "outputId": "f3349576-28c2-422c-c84e-8d340081d38b"
      },
      "execution_count": null,
      "outputs": [
        {
          "name": "stdout",
          "output_type": "stream",
          "text": [
            "Enter name:Anukrati soni\n",
            "Enter age:30\n"
          ]
        }
      ]
    },
    {
      "cell_type": "code",
      "source": [
        "# Write code to print all the pre-defined keywords in python using the keyword library.\n",
        "a=5\n",
        "type(a)"
      ],
      "metadata": {
        "colab": {
          "base_uri": "https://localhost:8080/"
        },
        "id": "ZCXTcEUoOc_w",
        "outputId": "2cd6f035-19aa-4090-a4c1-2d1b2bf4ddbf"
      },
      "execution_count": null,
      "outputs": [
        {
          "output_type": "execute_result",
          "data": {
            "text/plain": [
              "int"
            ]
          },
          "metadata": {},
          "execution_count": 7
        }
      ]
    },
    {
      "cell_type": "code",
      "source": [
        "b=0.9\n",
        "type(b)"
      ],
      "metadata": {
        "colab": {
          "base_uri": "https://localhost:8080/"
        },
        "id": "DXK75nwzQQ0m",
        "outputId": "f6b8d48e-e37b-4139-ef98-1951ee9ff55d"
      },
      "execution_count": null,
      "outputs": [
        {
          "output_type": "execute_result",
          "data": {
            "text/plain": [
              "float"
            ]
          },
          "metadata": {},
          "execution_count": 8
        }
      ]
    },
    {
      "cell_type": "code",
      "source": [
        "c =\"Anukrati\"\n",
        "type(c)"
      ],
      "metadata": {
        "colab": {
          "base_uri": "https://localhost:8080/"
        },
        "id": "OofqqwsyQcep",
        "outputId": "2a8b0f4a-e1f4-46da-bfb2-98d25e7151c7"
      },
      "execution_count": null,
      "outputs": [
        {
          "output_type": "execute_result",
          "data": {
            "text/plain": [
              "str"
            ]
          },
          "metadata": {},
          "execution_count": 9
        }
      ]
    },
    {
      "cell_type": "code",
      "source": [
        "d= True\n",
        "type(d)"
      ],
      "metadata": {
        "colab": {
          "base_uri": "https://localhost:8080/"
        },
        "id": "ZsEokp6AQp8h",
        "outputId": "d8ef18a3-b88a-4a4c-ee13-b589942bd347"
      },
      "execution_count": null,
      "outputs": [
        {
          "output_type": "execute_result",
          "data": {
            "text/plain": [
              "bool"
            ]
          },
          "metadata": {},
          "execution_count": 10
        }
      ]
    },
    {
      "cell_type": "code",
      "source": [
        "e= False\n",
        "type(e)"
      ],
      "metadata": {
        "colab": {
          "base_uri": "https://localhost:8080/"
        },
        "id": "ChIk5AUUQz7h",
        "outputId": "4bccc4ea-101c-4943-e017-e0331a1eb817"
      },
      "execution_count": null,
      "outputs": [
        {
          "output_type": "execute_result",
          "data": {
            "text/plain": [
              "bool"
            ]
          },
          "metadata": {},
          "execution_count": 11
        }
      ]
    },
    {
      "cell_type": "code",
      "source": [
        "f= 3+6j\n",
        "type(f)"
      ],
      "metadata": {
        "colab": {
          "base_uri": "https://localhost:8080/"
        },
        "id": "cfPVInDkREKQ",
        "outputId": "46b1162f-90c9-4465-d3cf-99905ceddb5d"
      },
      "execution_count": null,
      "outputs": [
        {
          "output_type": "execute_result",
          "data": {
            "text/plain": [
              "complex"
            ]
          },
          "metadata": {},
          "execution_count": 12
        }
      ]
    },
    {
      "cell_type": "code",
      "source": [
        "#Write a program that check if a given word is a python keyword.\n",
        "import keyword\n",
        "\n",
        "# Create a List\n",
        "myList = [\"for\", \"amit\", \"val\", \"while\"]\n",
        "\n",
        "# Display the List\n",
        "print(\"List = \",myList)\n",
        "\n",
        "keyword_list = []\n",
        "non_keyword_list = []\n",
        "\n",
        "# Looping and verifying for keywords\n",
        "for item in myList:\n",
        "\tif keyword.iskeyword(item):\n",
        "\t\tkeyword_list.append(item)\n",
        "\telse:\n",
        "\t\tnon_keyword_list.append(item)\n",
        "\n",
        "print(\"\\nKeywords= \" + str(keyword_list))\n",
        "print(\"Non-Keywords= \" + str(non_keyword_list))\n"
      ],
      "metadata": {
        "id": "VHUUTGBmRcVU",
        "colab": {
          "base_uri": "https://localhost:8080/"
        },
        "outputId": "42f5a167-ae64-469f-93ea-e95c555301ca"
      },
      "execution_count": null,
      "outputs": [
        {
          "output_type": "stream",
          "name": "stdout",
          "text": [
            "List =  ['for', 'amit', 'val', 'while']\n",
            "\n",
            "Keywords= ['for', 'while']\n",
            "Non-Keywords= ['amit', 'val']\n"
          ]
        }
      ]
    },
    {
      "cell_type": "code",
      "source": [
        "#Create a list and tuple in python,and demonstrate how attempting to change an element works differently for each.\n",
        "a = [(x, x ** 2) for x in range(5)]\n",
        "print(a)"
      ],
      "metadata": {
        "id": "aiBTIgpfXrmA",
        "colab": {
          "base_uri": "https://localhost:8080/"
        },
        "outputId": "c0faea38-f2cf-475c-ea63-165fe4efffc4"
      },
      "execution_count": null,
      "outputs": [
        {
          "output_type": "stream",
          "name": "stdout",
          "text": [
            "[(0, 0), (1, 1), (2, 4), (3, 9), (4, 16)]\n"
          ]
        }
      ]
    },
    {
      "cell_type": "code",
      "source": [
        "# Write a function to demonstrate the behavior of mutable and immutable arguments.\n",
        "list_count = [1, 2, 3 ,3.5 ,6+5j, True , \"Akki\" ]\n",
        "list_count"
      ],
      "metadata": {
        "id": "QI8xioShZuNb",
        "colab": {
          "base_uri": "https://localhost:8080/"
        },
        "outputId": "c87c9a7b-0649-4752-f2cc-d81ad124b7aa"
      },
      "execution_count": null,
      "outputs": [
        {
          "output_type": "execute_result",
          "data": {
            "text/plain": [
              "[1, 2, 3, 3.5, (6+5j), True, 'Akki']"
            ]
          },
          "metadata": {},
          "execution_count": 1
        }
      ]
    },
    {
      "cell_type": "code",
      "source": [
        "#mutability\n",
        "list_count [6]= \"Bittu\"\n",
        "list_count"
      ],
      "metadata": {
        "colab": {
          "base_uri": "https://localhost:8080/"
        },
        "id": "B8bJdyV-Hgli",
        "outputId": "b020eebf-e18e-4bae-f0b8-2bb36531425e"
      },
      "execution_count": null,
      "outputs": [
        {
          "output_type": "execute_result",
          "data": {
            "text/plain": [
              "[1, 2, 3, 3.5, (6+5j), True, 'Bittu']"
            ]
          },
          "metadata": {},
          "execution_count": 5
        }
      ]
    },
    {
      "cell_type": "code",
      "source": [
        "#immutability\n",
        "a= \"data_analytics\"\n",
        "a"
      ],
      "metadata": {
        "colab": {
          "base_uri": "https://localhost:8080/",
          "height": 35
        },
        "id": "m6HHOqrYIEGv",
        "outputId": "9f83b869-70ef-4774-bc58-6cc2a7348e0a"
      },
      "execution_count": null,
      "outputs": [
        {
          "output_type": "execute_result",
          "data": {
            "text/plain": [
              "'data_analytics'"
            ],
            "application/vnd.google.colaboratory.intrinsic+json": {
              "type": "string"
            }
          },
          "metadata": {},
          "execution_count": 7
        }
      ]
    },
    {
      "cell_type": "code",
      "source": [
        "a[0] = \"I\""
      ],
      "metadata": {
        "colab": {
          "base_uri": "https://localhost:8080/",
          "height": 141
        },
        "id": "Up1DOKBsI9aO",
        "outputId": "0a9d2ef3-0583-4cdb-f4ae-4a72b200d3e7"
      },
      "execution_count": null,
      "outputs": [
        {
          "output_type": "error",
          "ename": "TypeError",
          "evalue": "'str' object does not support item assignment",
          "traceback": [
            "\u001b[0;31m---------------------------------------------------------------------------\u001b[0m",
            "\u001b[0;31mTypeError\u001b[0m                                 Traceback (most recent call last)",
            "\u001b[0;32m<ipython-input-8-b055ba912816>\u001b[0m in \u001b[0;36m<cell line: 1>\u001b[0;34m()\u001b[0m\n\u001b[0;32m----> 1\u001b[0;31m \u001b[0ma\u001b[0m\u001b[0;34m[\u001b[0m\u001b[0;36m0\u001b[0m\u001b[0;34m]\u001b[0m \u001b[0;34m=\u001b[0m \u001b[0;34m\"I\"\u001b[0m\u001b[0;34m\u001b[0m\u001b[0;34m\u001b[0m\u001b[0m\n\u001b[0m",
            "\u001b[0;31mTypeError\u001b[0m: 'str' object does not support item assignment"
          ]
        }
      ]
    },
    {
      "cell_type": "code",
      "source": [
        "#Write a program to demonstrate the use of logical operators.\n",
        "# AND OPERATOR\n",
        "temp = 25\n",
        "if temp > 0 and temp < 30:\n",
        "    print (\"The temperature is good\")\n",
        "else:\n",
        "      print (\"The temperature is bad\")"
      ],
      "metadata": {
        "id": "I1M0yeVXBvCR",
        "colab": {
          "base_uri": "https://localhost:8080/"
        },
        "outputId": "d78f43fa-ebd0-457f-9780-3fb5bec52748"
      },
      "execution_count": null,
      "outputs": [
        {
          "output_type": "stream",
          "name": "stdout",
          "text": [
            "The temperature is good\n"
          ]
        }
      ]
    },
    {
      "cell_type": "code",
      "source": [
        "sunny = True\n",
        "if sunny:\n",
        "    print (\"It is sunny outside\")\n",
        "else:\n",
        "     print (\"It is cloudy outside\")\n"
      ],
      "metadata": {
        "id": "0LsHmuVmfjCx",
        "outputId": "1ee4a801-93f9-4213-9965-25fc401ec749",
        "colab": {
          "base_uri": "https://localhost:8080/"
        }
      },
      "execution_count": null,
      "outputs": [
        {
          "output_type": "stream",
          "name": "stdout",
          "text": [
            "It is sunny outside\n"
          ]
        }
      ]
    },
    {
      "cell_type": "code",
      "source": [
        "# Write a python program to convert user input from string to integer,float and boolean types.\n",
        "a='2'\n",
        "type (a)"
      ],
      "metadata": {
        "id": "DBuUfDAVCJOf",
        "colab": {
          "base_uri": "https://localhost:8080/"
        },
        "outputId": "45ec596b-d893-4776-ff4c-6d06f0780afb"
      },
      "execution_count": null,
      "outputs": [
        {
          "output_type": "execute_result",
          "data": {
            "text/plain": [
              "str"
            ]
          },
          "metadata": {},
          "execution_count": 28
        }
      ]
    },
    {
      "cell_type": "code",
      "source": [
        "a ='2'\n",
        "print (type(a))\n",
        "print (type(int(a)))"
      ],
      "metadata": {
        "id": "vREewsSCmFHX",
        "outputId": "b295fdfe-f6d5-4dcc-f4e7-73fcd42b1ae9",
        "colab": {
          "base_uri": "https://localhost:8080/"
        }
      },
      "execution_count": null,
      "outputs": [
        {
          "output_type": "stream",
          "name": "stdout",
          "text": [
            "<class 'str'>\n",
            "<class 'int'>\n"
          ]
        }
      ]
    },
    {
      "cell_type": "code",
      "source": [
        "print (type(float(a)))"
      ],
      "metadata": {
        "id": "ElKV-blmjx-8",
        "outputId": "e9c9ea8a-f6ca-4127-e432-58d91b86883a",
        "colab": {
          "base_uri": "https://localhost:8080/"
        }
      },
      "execution_count": null,
      "outputs": [
        {
          "output_type": "stream",
          "name": "stdout",
          "text": [
            "<class 'float'>\n"
          ]
        }
      ]
    },
    {
      "cell_type": "code",
      "source": [
        "print (type(bool(a)))"
      ],
      "metadata": {
        "id": "sx-qI1s9m6dq",
        "outputId": "e8a8c475-925f-43a8-8327-350de8800ddb",
        "colab": {
          "base_uri": "https://localhost:8080/"
        }
      },
      "execution_count": null,
      "outputs": [
        {
          "output_type": "stream",
          "name": "stdout",
          "text": [
            "<class 'bool'>\n"
          ]
        }
      ]
    },
    {
      "cell_type": "code",
      "source": [
        "#write code to demonstrate type casting with list elements.\n",
        "def cast_list(test_list, data_type):\n",
        "    return list(map(data_type, test_list))\n",
        "# initialize list\n",
        "test_list = [1, 4, 9, 10, 19]\n",
        "# printing original list\n",
        "print(\"The original list is : \" + str(test_list))\n",
        "# Type casting whole List\n",
        "res_list = cast_list(test_list, str)\n",
        "# printing result\n",
        "print(\"The List after type casting is : \" + str(res_list))\n"
      ],
      "metadata": {
        "id": "M1Uo21D0CkX3",
        "colab": {
          "base_uri": "https://localhost:8080/"
        },
        "outputId": "6a437e1f-80bc-43bb-8879-cbdeb19e1106"
      },
      "execution_count": null,
      "outputs": [
        {
          "output_type": "stream",
          "name": "stdout",
          "text": [
            "The original list is : [1, 4, 9, 10, 19]\n",
            "The List after type casting is : ['1', '4', '9', '10', '19']\n"
          ]
        }
      ]
    },
    {
      "cell_type": "code",
      "source": [
        "# write a program that check if a number is positive , negative ,or zero.\n",
        "def check(n):\n",
        "\n",
        "    # if the number is positive\n",
        "    if n > 0:\n",
        "        print(\"Positive\")\n",
        "\n",
        "    # if the number is negative\n",
        "    elif n < 0:\n",
        "        print(\"Negative\")\n",
        "\n",
        "    # if the number is equal to\n",
        "    # zero\n",
        "    else:\n",
        "        print(\"Equal to zero\")\n",
        "        check(5)\n",
        "check(0)\n",
        "check(-5)"
      ],
      "metadata": {
        "id": "BaBy96alC1kN",
        "colab": {
          "base_uri": "https://localhost:8080/"
        },
        "outputId": "c319a37a-35f9-4df2-da95-210d02eba9a5"
      },
      "execution_count": null,
      "outputs": [
        {
          "output_type": "stream",
          "name": "stdout",
          "text": [
            "Equal to zero\n",
            "Positive\n",
            "Negative\n"
          ]
        }
      ]
    },
    {
      "cell_type": "code",
      "source": [
        "#Write a for loop to print numbers from 1 to 10.\n",
        "n=10\n",
        "i=1\n",
        "while i<=n:\n",
        "    print(i)\n",
        "    i = i+1"
      ],
      "metadata": {
        "id": "rHbxNLjnDL2V",
        "colab": {
          "base_uri": "https://localhost:8080/"
        },
        "outputId": "10f52952-41ea-446c-b6d1-505545db7c0d"
      },
      "execution_count": null,
      "outputs": [
        {
          "output_type": "stream",
          "name": "stdout",
          "text": [
            "1\n",
            "2\n",
            "3\n",
            "4\n",
            "5\n",
            "6\n",
            "7\n",
            "8\n",
            "9\n",
            "10\n"
          ]
        }
      ]
    },
    {
      "cell_type": "code",
      "source": [
        "# Write a python program to find the sum of all even numbers between 1 and 500. um = int(input('Enter a number: '))\n",
        "num = int(input('Enter a number: '))\n",
        "sum = 0\n",
        "for i in range(0, num+1):\n",
        "    if i % 2 == 0:\n",
        "        print(i)\n",
        "        sum+=i\n",
        "\n",
        "print(f\"Sum of all the even numbers is {sum}\")"
      ],
      "metadata": {
        "id": "WVXpaqwODYMj",
        "colab": {
          "base_uri": "https://localhost:8080/"
        },
        "outputId": "c9bd455f-5fa3-4607-c70d-9f120172013b"
      },
      "execution_count": null,
      "outputs": [
        {
          "output_type": "stream",
          "name": "stdout",
          "text": [
            "Enter a number: 500\n",
            "0\n",
            "2\n",
            "4\n",
            "6\n",
            "8\n",
            "10\n",
            "12\n",
            "14\n",
            "16\n",
            "18\n",
            "20\n",
            "22\n",
            "24\n",
            "26\n",
            "28\n",
            "30\n",
            "32\n",
            "34\n",
            "36\n",
            "38\n",
            "40\n",
            "42\n",
            "44\n",
            "46\n",
            "48\n",
            "50\n",
            "52\n",
            "54\n",
            "56\n",
            "58\n",
            "60\n",
            "62\n",
            "64\n",
            "66\n",
            "68\n",
            "70\n",
            "72\n",
            "74\n",
            "76\n",
            "78\n",
            "80\n",
            "82\n",
            "84\n",
            "86\n",
            "88\n",
            "90\n",
            "92\n",
            "94\n",
            "96\n",
            "98\n",
            "100\n",
            "102\n",
            "104\n",
            "106\n",
            "108\n",
            "110\n",
            "112\n",
            "114\n",
            "116\n",
            "118\n",
            "120\n",
            "122\n",
            "124\n",
            "126\n",
            "128\n",
            "130\n",
            "132\n",
            "134\n",
            "136\n",
            "138\n",
            "140\n",
            "142\n",
            "144\n",
            "146\n",
            "148\n",
            "150\n",
            "152\n",
            "154\n",
            "156\n",
            "158\n",
            "160\n",
            "162\n",
            "164\n",
            "166\n",
            "168\n",
            "170\n",
            "172\n",
            "174\n",
            "176\n",
            "178\n",
            "180\n",
            "182\n",
            "184\n",
            "186\n",
            "188\n",
            "190\n",
            "192\n",
            "194\n",
            "196\n",
            "198\n",
            "200\n",
            "202\n",
            "204\n",
            "206\n",
            "208\n",
            "210\n",
            "212\n",
            "214\n",
            "216\n",
            "218\n",
            "220\n",
            "222\n",
            "224\n",
            "226\n",
            "228\n",
            "230\n",
            "232\n",
            "234\n",
            "236\n",
            "238\n",
            "240\n",
            "242\n",
            "244\n",
            "246\n",
            "248\n",
            "250\n",
            "252\n",
            "254\n",
            "256\n",
            "258\n",
            "260\n",
            "262\n",
            "264\n",
            "266\n",
            "268\n",
            "270\n",
            "272\n",
            "274\n",
            "276\n",
            "278\n",
            "280\n",
            "282\n",
            "284\n",
            "286\n",
            "288\n",
            "290\n",
            "292\n",
            "294\n",
            "296\n",
            "298\n",
            "300\n",
            "302\n",
            "304\n",
            "306\n",
            "308\n",
            "310\n",
            "312\n",
            "314\n",
            "316\n",
            "318\n",
            "320\n",
            "322\n",
            "324\n",
            "326\n",
            "328\n",
            "330\n",
            "332\n",
            "334\n",
            "336\n",
            "338\n",
            "340\n",
            "342\n",
            "344\n",
            "346\n",
            "348\n",
            "350\n",
            "352\n",
            "354\n",
            "356\n",
            "358\n",
            "360\n",
            "362\n",
            "364\n",
            "366\n",
            "368\n",
            "370\n",
            "372\n",
            "374\n",
            "376\n",
            "378\n",
            "380\n",
            "382\n",
            "384\n",
            "386\n",
            "388\n",
            "390\n",
            "392\n",
            "394\n",
            "396\n",
            "398\n",
            "400\n",
            "402\n",
            "404\n",
            "406\n",
            "408\n",
            "410\n",
            "412\n",
            "414\n",
            "416\n",
            "418\n",
            "420\n",
            "422\n",
            "424\n",
            "426\n",
            "428\n",
            "430\n",
            "432\n",
            "434\n",
            "436\n",
            "438\n",
            "440\n",
            "442\n",
            "444\n",
            "446\n",
            "448\n",
            "450\n",
            "452\n",
            "454\n",
            "456\n",
            "458\n",
            "460\n",
            "462\n",
            "464\n",
            "466\n",
            "468\n",
            "470\n",
            "472\n",
            "474\n",
            "476\n",
            "478\n",
            "480\n",
            "482\n",
            "484\n",
            "486\n",
            "488\n",
            "490\n",
            "492\n",
            "494\n",
            "496\n",
            "498\n",
            "500\n",
            "Sum of all the even numbers is 62750\n"
          ]
        }
      ]
    },
    {
      "cell_type": "code",
      "source": [
        "#Write a program to reverse a string using a while loop.\n",
        "s = \"Dataanalytics\"\n",
        "rev = s[::-1]\n",
        "print(rev)"
      ],
      "metadata": {
        "id": "fjU_n6DkDrF8",
        "colab": {
          "base_uri": "https://localhost:8080/"
        },
        "outputId": "09c7325e-ea0b-44af-b9fc-855899b35732"
      },
      "execution_count": null,
      "outputs": [
        {
          "output_type": "stream",
          "name": "stdout",
          "text": [
            "scitylanaataD\n"
          ]
        }
      ]
    },
    {
      "cell_type": "code",
      "source": [
        "# Write a python program to calculate the factorial of a number provided by the user using a while loop.\n",
        "# accept input number from user\n",
        "n = int(input(\"Enter any number: \"))\n",
        "\n",
        "# logic to calculate the factorial of a number\n",
        "f = 1\n",
        "while n >= 1:\n",
        "    f *= n\n",
        "    n -= 1\n",
        "\n",
        "# print output\n",
        "print(\"Factorial is\", f)"
      ],
      "metadata": {
        "id": "cClyQtDsD44i",
        "colab": {
          "base_uri": "https://localhost:8080/"
        },
        "outputId": "29c08ebd-71d4-406d-b3ed-1c25d6fb84df"
      },
      "execution_count": null,
      "outputs": [
        {
          "output_type": "stream",
          "name": "stdout",
          "text": [
            "Enter any number: 5\n",
            "Factorial is 120\n"
          ]
        }
      ]
    }
  ]
}